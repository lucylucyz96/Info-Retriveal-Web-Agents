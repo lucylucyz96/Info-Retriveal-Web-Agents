{
 "cells": [
  {
   "cell_type": "code",
   "execution_count": 57,
   "metadata": {},
   "outputs": [],
   "source": [
    "import gzip\n",
    "from collections import defaultdict\n",
    "\n",
    "def readGz(f):\n",
    "    for l in gzip.open(f):\n",
    "        yield eval(l)\n",
    "\n",
    "data = list(readGz(\"train.json.gz\"))"
   ]
  },
  {
   "cell_type": "code",
   "execution_count": 58,
   "metadata": {},
   "outputs": [],
   "source": [
    "training_data = data[:160000]\n",
    "validation_data = data[160000:]"
   ]
  },
  {
   "cell_type": "markdown",
   "metadata": {},
   "source": [
    "Baseline for Problem1, get most popular items and see if it is in the list. If yes, return True. Else, return False"
   ]
  },
  {
   "cell_type": "code",
   "execution_count": 59,
   "metadata": {},
   "outputs": [],
   "source": [
    "\n",
    "import random\n",
    "users = []\n",
    "items = []\n",
    "validation_list = []\n",
    "userItems = defaultdict(list)\n",
    "for l in readGz(\"/Users/ruyinzhang/Desktop/train.json.gz\"):\n",
    "    user,item = l['reviewerID'],l['itemID']\n",
    "    users.append(user)\n",
    "    items.append(item)\n",
    "    userItems[user].append(item)\n",
    "    \n",
    "users = list(set(users)) \n",
    "items = list(set(items)) \n",
    "i=0\n",
    "while i<40000:\n",
    "    rand_user = random.choice(users) \n",
    "    rand_item = random.choice(items)\n",
    "    if rand_item not in userItems[rand_user]:\n",
    "        i+=1\n",
    "        validation_list.append((rand_user,rand_item))"
   ]
  },
  {
   "cell_type": "code",
   "execution_count": 60,
   "metadata": {},
   "outputs": [],
   "source": [
    "#FORMALIZING VALIDATION DATA \n",
    "validation_data_1=[] #Use this \n",
    "for d in validation_data:\n",
    "    validation_data_1.append((d['reviewerID'],d['itemID'])) \n",
    "y_validation_data = [1]*len(validation_data_1)#PURCHASED\n",
    "y_validation_list = [0]*len(validation_list)#NOT PURCHASED \n",
    "#add it together\n",
    "x_validation = validation_data_1 + validation_list \n",
    "y_validation = y_validation_data+y_validation_list"
   ]
  },
  {
   "cell_type": "code",
   "execution_count": 61,
   "metadata": {},
   "outputs": [],
   "source": [
    "x_training = []\n",
    "for d in training_data:\n",
    "    x_training.append((d['reviewerID'],d['itemID'])) \n",
    "y_training = [1]*len(x_training)"
   ]
  },
  {
   "cell_type": "code",
   "execution_count": 62,
   "metadata": {},
   "outputs": [],
   "source": [
    "businessCount = defaultdict(int)\n",
    "totalPurchases = 0\n",
    "\n",
    "for l in x_train: \n",
    "    user,business = l[0],l[1] \n",
    "    businessCount[business] += 1 \n",
    "    totalPurchases += 1\n",
    "\n",
    "mostPopular = [(businessCount[x], x) for x in businessCount] \n",
    "mostPopular.sort()\n",
    "mostPopular.reverse()\n",
    "\n",
    "return1 = set()\n",
    "count = 0\n",
    "\n",
    "for ic, i in mostPopular:\n",
    "    count += ic\n",
    "    return1.add(i)\n",
    "    if count > totalPurchases/2: break"
   ]
  },
  {
   "cell_type": "code",
   "execution_count": 63,
   "metadata": {},
   "outputs": [],
   "source": [
    "count_accurate = []\n",
    "for x in x_validation: \n",
    "    if x[1] in return1:\n",
    "        count_accurate.append(1) \n",
    "    else:\n",
    "        count_accurate.append(0)\n",
    "\n"
   ]
  },
  {
   "cell_type": "code",
   "execution_count": 64,
   "metadata": {},
   "outputs": [
    {
     "name": "stdout",
     "output_type": "stream",
     "text": [
      "0.6303375\n"
     ]
    }
   ],
   "source": [
    "accurate = sum(i == j for i, j in zip(count_accurate, y_validation)) \n",
    "percent_accurate = accurate/len(y_validation) \n",
    "print(percent_accurate)"
   ]
  },
  {
   "cell_type": "markdown",
   "metadata": {},
   "source": [
    "Baseline for Problem 3: Predict Mean"
   ]
  },
  {
   "cell_type": "code",
   "execution_count": 46,
   "metadata": {},
   "outputs": [
    {
     "name": "stdout",
     "output_type": "stream",
     "text": [
      "4.23479375\n"
     ]
    }
   ],
   "source": [
    "rating = 0\n",
    "\n",
    "for l in training_data:\n",
    "    rating += l['rating']\n",
    "\n",
    "mean = rating/len(training_data)\n",
    "print(mean)"
   ]
  },
  {
   "cell_type": "code",
   "execution_count": 48,
   "metadata": {},
   "outputs": [],
   "source": [
    "def MSE(predictions,labels):\n",
    "    differences = [(x-y)**2 for x,y in zip(predictions,labels)]\n",
    "    return sum(differences)/len(differences)"
   ]
  },
  {
   "cell_type": "code",
   "execution_count": 49,
   "metadata": {},
   "outputs": [],
   "source": [
    "labels = [d['rating'] for d in validation_data]\n",
    "baseline_mean = [mean]*len(validation_data)\n"
   ]
  },
  {
   "cell_type": "code",
   "execution_count": 50,
   "metadata": {},
   "outputs": [
    {
     "data": {
      "text/plain": [
       "1.2315435347266412"
      ]
     },
     "execution_count": 50,
     "metadata": {},
     "output_type": "execute_result"
    }
   ],
   "source": [
    "MSE(baseline_mean,labels)"
   ]
  },
  {
   "cell_type": "markdown",
   "metadata": {},
   "source": [
    "Baseline for Problem2: Predict the category user most likely shop from "
   ]
  },
  {
   "cell_type": "code",
   "execution_count": 51,
   "metadata": {},
   "outputs": [],
   "source": [
    "#select data that has categoryID of only 1\n",
    "Category_data = [] \n",
    "for d in data:\n",
    "     Category_data.append(d['categoryID'])"
   ]
  },
  {
   "cell_type": "code",
   "execution_count": 52,
   "metadata": {},
   "outputs": [],
   "source": [
    "for d in Category_data:\n",
    "    if (isinstance(d, int)!=True):\n",
    "        print(type(d))\n",
    "#Every data has only 1 cateogryID"
   ]
  },
  {
   "cell_type": "code",
   "execution_count": 55,
   "metadata": {},
   "outputs": [],
   "source": [
    "training=data[:160000]\n",
    "validation=data[160000:]"
   ]
  },
  {
   "cell_type": "code",
   "execution_count": 56,
   "metadata": {},
   "outputs": [
    {
     "data": {
      "text/plain": [
       "Counter({0: 141398, 4: 2976, 3: 1881, 1: 51416, 2: 2329})"
      ]
     },
     "execution_count": 56,
     "metadata": {},
     "output_type": "execute_result"
    }
   ],
   "source": [
    "#First identify which cateogry is popular overall\n",
    "from collections import Counter \n",
    "Counter(Category_data)\n"
   ]
  },
  {
   "cell_type": "code",
   "execution_count": null,
   "metadata": {},
   "outputs": [],
   "source": []
  }
 ],
 "metadata": {
  "kernelspec": {
   "display_name": "Python 3",
   "language": "python",
   "name": "python3"
  },
  "language_info": {
   "codemirror_mode": {
    "name": "ipython",
    "version": 3
   },
   "file_extension": ".py",
   "mimetype": "text/x-python",
   "name": "python",
   "nbconvert_exporter": "python",
   "pygments_lexer": "ipython3",
   "version": "3.6.4"
  }
 },
 "nbformat": 4,
 "nbformat_minor": 2
}
